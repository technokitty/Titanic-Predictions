{
 "cells": [
  {
   "cell_type": "markdown",
   "metadata": {},
   "source": [
    "# Titanic Predictor\n",
    "\n",
    "This code takes csv data from the Kaggle website, cleans it, and runs it through a random forest classifier. Future goals would be to add more features to increase prediction accuracy. Interaction variables from Emma Gertlowitz's blog are: fare per person, AgeClass interaction, sexClass interaction, combined_age, family – sibsp + parch, (age_squared – combined_age) squared, and (age_class_squared – age_class) squared. Other features to add are extracting the title and turning the P-class into dummy variables. I've also heard that the age column is useless so not sure whether I should drop that or not. Another idea is to change the machine learning model to an SVM."
   ]
  },
  {
   "cell_type": "code",
   "execution_count": 91,
   "metadata": {
    "collapsed": true
   },
   "outputs": [],
   "source": [
    "import numpy as np\n",
    "import pandas as pd\n",
    "import sklearn as sk\n",
    "import matplotlib.pyplot as plt\n",
    "# Load scikit's random forest classifier library\n",
    "from sklearn.ensemble import RandomForestClassifier"
   ]
  },
  {
   "cell_type": "code",
   "execution_count": 92,
   "metadata": {
    "collapsed": true
   },
   "outputs": [],
   "source": [
    "def cleanCSV(filename):\n",
    "    newdf = pd.read_csv(open(filename))\n",
    "    #dropping name, ticket, cabin, ID, and embarked columns\n",
    "    newdf.drop(['Name', 'Ticket', 'Cabin', 'Embarked'], axis=1, inplace=True) \n",
    "    # One-hot encoding Gender\n",
    "    newdf['m'] = (newdf['Sex'] == 'male')\n",
    "    newdf['f'] = (newdf['Sex'] == 'female')\n",
    "    newdf.drop(['Sex'], axis=1, inplace=True)\n",
    "    # Replace Nan values in age column with average age\n",
    "    values={'Age': newdf['Age'].mean()}\n",
    "    newdf.fillna(value=values, inplace=True)\n",
    "    return newdf"
   ]
  },
  {
   "cell_type": "code",
   "execution_count": 93,
   "metadata": {
    "collapsed": true
   },
   "outputs": [],
   "source": [
    "#df = pd.read_csv(open('train.csv'))\n",
    "df = cleanCSV('train.csv')\n",
    "df.drop(['PassengerId'], axis=1, inplace=True) \n",
    "test = cleanCSV('test.csv')"
   ]
  },
  {
   "cell_type": "code",
   "execution_count": 94,
   "metadata": {
    "collapsed": true
   },
   "outputs": [],
   "source": [
    "# Create a list of the feature column's names\n",
    "features = df.columns[1:len(df.columns)]\n",
    "#Drop NaN value in fare column\n",
    "test['Fare'].fillna(test['Fare'].mean(), inplace=True)"
   ]
  },
  {
   "cell_type": "code",
   "execution_count": 95,
   "metadata": {
    "collapsed": true
   },
   "outputs": [],
   "source": [
    "# Create a random forest Classifier. By convention, clf means 'Classifier'\n",
    "clf = RandomForestClassifier(n_jobs=2, random_state=0)"
   ]
  },
  {
   "cell_type": "code",
   "execution_count": 96,
   "metadata": {
    "collapsed": true
   },
   "outputs": [],
   "source": [
    "# Holds survival data; this is what we want to predict-- the label\n",
    "y = df['Survived']"
   ]
  },
  {
   "cell_type": "code",
   "execution_count": 97,
   "metadata": {
    "collapsed": true
   },
   "outputs": [],
   "source": [
    "# Train the Classifier to take the training features and learn how they relate\n",
    "# to the training y (the species)\n",
    "clf.fit(df[features], y);"
   ]
  },
  {
   "cell_type": "code",
   "execution_count": 98,
   "metadata": {
    "collapsed": true
   },
   "outputs": [],
   "source": [
    "# Apply the Classifier we trained to the test data\n",
    "survive = clf.predict(test[features])"
   ]
  },
  {
   "cell_type": "code",
   "execution_count": 99,
   "metadata": {
    "collapsed": true
   },
   "outputs": [],
   "source": [
    "final = zip(test['PassengerId'], survive)"
   ]
  },
  {
   "cell_type": "code",
   "execution_count": 100,
   "metadata": {
    "collapsed": true
   },
   "outputs": [],
   "source": [
    "final_prediction = pd.DataFrame(final, columns=['PassengerId', 'Survived'])"
   ]
  },
  {
   "cell_type": "code",
   "execution_count": 101,
   "metadata": {
    "collapsed": true
   },
   "outputs": [],
   "source": [
    "final_prediction.to_csv('final_prediction8.csv', index=False)"
   ]
  },
  {
   "cell_type": "code",
   "execution_count": null,
   "metadata": {
    "collapsed": true
   },
   "outputs": [],
   "source": []
  }
 ],
 "metadata": {
  "kernelspec": {
   "display_name": "Python 2",
   "language": "python",
   "name": "python2"
  },
  "language_info": {
   "codemirror_mode": {
    "name": "ipython",
    "version": 2
   },
   "file_extension": ".py",
   "mimetype": "text/x-python",
   "name": "python",
   "nbconvert_exporter": "python",
   "pygments_lexer": "ipython2",
   "version": "2.7.14"
  }
 },
 "nbformat": 4,
 "nbformat_minor": 2
}
